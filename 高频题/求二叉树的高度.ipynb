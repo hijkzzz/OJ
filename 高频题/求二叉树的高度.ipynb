{
 "cells": [
  {
   "cell_type": "code",
   "execution_count": null,
   "metadata": {},
   "outputs": [],
   "source": [
    "#二叉树的宽度和高度\n",
    "import queue\n",
    " \n",
    "class Node:\n",
    "    def __init__(self,value=None,left=None,right=None):\n",
    "        self.value=value\n",
    "        self.left=left\n",
    "        self.right=right\n",
    " \n",
    "def treeDepth(tree):\n",
    "    if tree==None:\n",
    "        return 0\n",
    "    leftDepth=treeDepth(tree.left)\n",
    "    rightDepth=treeDepth(tree.right)\n",
    "    if leftDepth>rightDepth:\n",
    "        return leftDepth+1\n",
    "    if rightDepth>=leftDepth:\n",
    "        return rightDepth+1\n",
    " \n",
    "def treeWidth(tree):\n",
    "    curwidth=1\n",
    "    maxwidth=0\n",
    "    q=queue.Queue()\n",
    "    q.put(tree)\n",
    "    while not q.empty():\n",
    "        n=curwidth\n",
    "        for i in range(n):\n",
    "            tmp=q.get()\n",
    "            curwidth-=1\n",
    "            if tmp.left:\n",
    "                q.put(tmp.left)\n",
    "                curwidth+=1\n",
    "            if tmp.right:\n",
    "                q.put(tmp.right)\n",
    "                curwidth+=1\n",
    "        if curwidth>maxwidth:\n",
    "            maxwidth=curwidth\n",
    "    return maxwidth\n",
    " \n",
    "if __name__=='__main__':\n",
    "    root=Node('D',Node('B',Node('A'),Node('C')),Node('E',right=Node('G',Node('F'))))\n",
    "    depth=treeDepth(root)\n",
    "    width=treeWidth(root)\n",
    "    print('depth:',depth)\n",
    "    print('width:',width)"
   ]
  }
 ],
 "metadata": {
  "kernelspec": {
   "display_name": "Python 3",
   "language": "python",
   "name": "python3"
  },
  "language_info": {
   "codemirror_mode": {
    "name": "ipython",
    "version": 3
   },
   "file_extension": ".py",
   "mimetype": "text/x-python",
   "name": "python",
   "nbconvert_exporter": "python",
   "pygments_lexer": "ipython3",
   "version": "3.6.6"
  }
 },
 "nbformat": 4,
 "nbformat_minor": 2
}
