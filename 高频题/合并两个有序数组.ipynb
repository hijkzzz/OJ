{
 "cells": [
  {
   "cell_type": "code",
   "execution_count": null,
   "metadata": {},
   "outputs": [],
   "source": [
    "def merge_sort(a, b):\n",
    "    ret = []\n",
    "    while len(a)>0 and len(b)>0:\n",
    "        if a[0] <= b[0]:\n",
    "            ret.append(a[0])\n",
    "            a.remove(a[0])    \n",
    "        if a[0] >= b[0]:\n",
    "            ret.append(b[0])\n",
    "            b.remove(b[0])\n",
    "    if len(a) == 0:\n",
    "        ret += b\n",
    "    if len(b) == 0:\n",
    "        ret += a\n",
    "    return ret\n",
    "\n",
    "\n",
    "if __name__ == '__main__':\n",
    "    a = [1,3,4,6,7,78,97,190]\n",
    "    b = [2,5,6,8,10,12,14,16,18]\n",
    "    print(merge_sort(a, b))"
   ]
  }
 ],
 "metadata": {
  "kernelspec": {
   "display_name": "Python 3",
   "language": "python",
   "name": "python3"
  },
  "language_info": {
   "codemirror_mode": {
    "name": "ipython",
    "version": 3
   },
   "file_extension": ".py",
   "mimetype": "text/x-python",
   "name": "python",
   "nbconvert_exporter": "python",
   "pygments_lexer": "ipython3",
   "version": "3.6.6"
  }
 },
 "nbformat": 4,
 "nbformat_minor": 2
}
