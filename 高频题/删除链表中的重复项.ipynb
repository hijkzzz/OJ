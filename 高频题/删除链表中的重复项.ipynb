{
 "cells": [
  {
   "cell_type": "code",
   "execution_count": null,
   "metadata": {},
   "outputs": [],
   "source": [
    "def deleteDuplication(self, pHead):\n",
    "    first = ListNode(-1)\n",
    "    first.next = pHead\n",
    "    last = first\n",
    "    while pHead and pHead.next:\n",
    "        if pHead.val == pHead.next.val:\n",
    "            val = pHead.val\n",
    "            while pHead and val==pHead.val:\n",
    "                pHead = pHead.next\n",
    "            last.next = pHead\n",
    "        else:\n",
    "            last = pHead\n",
    "            pHead = pHead.next\n",
    "    return first.next"
   ]
  }
 ],
 "metadata": {
  "kernelspec": {
   "display_name": "Python 3",
   "language": "python",
   "name": "python3"
  },
  "language_info": {
   "codemirror_mode": {
    "name": "ipython",
    "version": 3
   },
   "file_extension": ".py",
   "mimetype": "text/x-python",
   "name": "python",
   "nbconvert_exporter": "python",
   "pygments_lexer": "ipython3",
   "version": "3.6.6"
  }
 },
 "nbformat": 4,
 "nbformat_minor": 2
}
