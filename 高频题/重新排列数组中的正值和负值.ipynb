{
 "cells": [
  {
   "cell_type": "markdown",
   "metadata": {},
   "source": [
    "设两个指针positive, negative，初始指向数组最后一个元素，然后从后往前遍历数组，positive每次指向第一个满足positive<negative的正数，negative指向最后一个负数，然后将positive+1到negative的元素往前移,将positive移至negative位置。循环上述过程,直至positive<0时。"
   ]
  }
 ],
 "metadata": {
  "kernelspec": {
   "display_name": "Python 3",
   "language": "python",
   "name": "python3"
  },
  "language_info": {
   "codemirror_mode": {
    "name": "ipython",
    "version": 3
   },
   "file_extension": ".py",
   "mimetype": "text/x-python",
   "name": "python",
   "nbconvert_exporter": "python",
   "pygments_lexer": "ipython3",
   "version": "3.6.6"
  }
 },
 "nbformat": 4,
 "nbformat_minor": 2
}
