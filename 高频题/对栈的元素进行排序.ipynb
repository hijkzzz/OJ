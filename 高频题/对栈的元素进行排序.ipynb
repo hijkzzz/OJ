{
 "cells": [
  {
   "cell_type": "markdown",
   "metadata": {},
   "source": [
    "假设数据保存在原栈s1中，另设辅助栈s2。数据进行一系列处理后以升序排在栈s1中，那么s1中的数据一定是由s2栈倾倒出的。所以在完成所有数据在s1中升序排列之前数据应该在s2中降序排列，即大元素位于栈底。所以问题转化为从s1中弹出元素输入到s2中并使这些元素降序排列。考虑这一操作的中间过程，假设已经弹出s1的部分元素压入s2中，数据在s2中已排序，s2从栈底到栈顶有5,3,2,1这4个元素，假设当前s1的栈顶元素是4，现在要将4入栈s2，为了保持s2栈中元素的顺序，4应该放入3的下面。这时候s2中的1，2，3都需要弹出给4让出位置，1，2，3只能临时存放在s1中，为了避免s1原先的栈顶元素4被覆盖，可以设临时变量保存栈顶4，然后弹出4.再将s2中小于的4的元素全部弹出到s1中，原先s1的栈顶4先入栈s2，再将1,2,3从s1中还原到s2,这时候s2中的元素还是排好序的，为5,4,3,2,1。"
   ]
  },
  {
   "cell_type": "code",
   "execution_count": null,
   "metadata": {},
   "outputs": [],
   "source": [
    "void StackSort(stack<int>& s)\n",
    "{\n",
    "    if(s.empty() || s.size() == 1)\n",
    "        return;\n",
    "    stack<int> tmpStack;\n",
    "    int first = s.top();\n",
    "    tmpStack.push(first);\n",
    "    s.pop();\n",
    " \n",
    "    while(!s.empty())\n",
    "    {\n",
    "        int top = s.top();\n",
    "        s.pop();\n",
    "        while(!tmpStack.empty() && top > tmpStack.top())\n",
    "        {\n",
    "            int tmp1 = tmpStack.top();\n",
    "            tmpStack.pop();\n",
    "            s.push(tmp1);\n",
    "        }\n",
    "        tmpStack.push(top);\n",
    "    }\n",
    " \n",
    "    while(!tmpStack.empty())\n",
    "    {\n",
    "        int tmp2 = tmpStack.top();\n",
    "        tmpStack.pop();\n",
    "        s.push(tmp2);\n",
    "    }\n",
    "}"
   ]
  }
 ],
 "metadata": {
  "kernelspec": {
   "display_name": "Python 3",
   "language": "python",
   "name": "python3"
  },
  "language_info": {
   "codemirror_mode": {
    "name": "ipython",
    "version": 3
   },
   "file_extension": ".py",
   "mimetype": "text/x-python",
   "name": "python",
   "nbconvert_exporter": "python",
   "pygments_lexer": "ipython3",
   "version": "3.6.6"
  }
 },
 "nbformat": 4,
 "nbformat_minor": 2
}
