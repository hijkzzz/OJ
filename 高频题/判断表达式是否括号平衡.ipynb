{
 "cells": [
  {
   "cell_type": "code",
   "execution_count": null,
   "metadata": {},
   "outputs": [],
   "source": [
    "def isBalance(text):\n",
    "  \"\"\"栈的应用,检查括号是否平衡\"\"\"\n",
    "  result_stack = Stack()\n",
    "  for i in text:\n",
    "    if i in ['{', '[', '(']:\n",
    "      result_stack.push(i)\n",
    "    elif i in ['}', ']', ')']:\n",
    "      # 遇到结束括号的情况\n",
    "      if result_stack.isEmpty():\n",
    "        # 如果当前栈为空, 不匹配,返回False\n",
    "        return False\n",
    "      chFromStack = result_stack.pop()\n",
    "      if not ((chFromStack == '{' and i == '}' )\n",
    "          or (chFromStack == '[' and i == ']')\n",
    "          or (chFromStack == '(' and i == ')')):\n",
    "        # 如果不满足匹配条件, 则返回False\n",
    "        return False\n",
    "  # 遍历结束后, 如果结果栈为空, 则代表括号匹配, 栈不为空, 括号不匹配\n",
    "  return result_stack.isEmpty()"
   ]
  }
 ],
 "metadata": {
  "kernelspec": {
   "display_name": "Python 3",
   "language": "python",
   "name": "python3"
  },
  "language_info": {
   "codemirror_mode": {
    "name": "ipython",
    "version": 3
   },
   "file_extension": ".py",
   "mimetype": "text/x-python",
   "name": "python",
   "nbconvert_exporter": "python",
   "pygments_lexer": "ipython3",
   "version": "3.6.6"
  }
 },
 "nbformat": 4,
 "nbformat_minor": 2
}
