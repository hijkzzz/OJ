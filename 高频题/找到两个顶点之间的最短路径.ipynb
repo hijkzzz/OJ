{
 "cells": [
  {
   "cell_type": "markdown",
   "metadata": {},
   "source": [
    "dijkstra"
   ]
  },
  {
   "cell_type": "code",
   "execution_count": 11,
   "metadata": {},
   "outputs": [
    {
     "name": "stdout",
     "output_type": "stream",
     "text": [
      "dict_values([0, 1, 8, 4, 13, 17])\n"
     ]
    }
   ],
   "source": [
    "# Dijkstra算法——通过边实现松弛\n",
    "# 指定一个点到其他各顶点的路径——单源最短路径\n",
    "# 不支持负权重\n",
    "\n",
    "# 初始化图参数\n",
    "G = {1:{1:0,    2:1,    3:12},\n",
    "     2:{2:0,    3:9,    4:3},\n",
    "     3:{3:0,    5:5},\n",
    "     4:{3:4,    4:0,    5:13,   6:15},\n",
    "     5:{5:0,    6:4},\n",
    "     6:{6:0}}\n",
    "    \n",
    "\n",
    "# 每次找到离源点最近的一个顶点，然后以该顶点为重心进行扩展\n",
    "# 最终的到源点到其余所有点的最短路径\n",
    "# 一种贪婪算法\n",
    "\n",
    "def Dijkstra(G,v0,INF=float('inf')):\n",
    "    \"\"\" 使用 Dijkstra 算法计算指定点 v0 到图 G 中任意点的最短路径的距离\n",
    "        INF 为设定的无限远距离值\n",
    "        此方法不能解决负权值边的图\n",
    "    \"\"\"\n",
    "    book = set()\n",
    "    minv = v0\n",
    "    \n",
    "    # 源顶点到其余各顶点的初始路程\n",
    "    dis = dict((k, INF) for k in G.keys())\n",
    "    dis[v0] = 0\n",
    "    \n",
    "    while len(book) < len(G):\n",
    "        book.add(minv)                                  # 确定当期顶点的距离\n",
    "        for w in G[minv]:                               # 以当前点的中心向外扩散\n",
    "            if dis[minv] + G[minv][w] < dis[w]:         # 如果从当前点扩展到某一点的距离小与已知最短距离      \n",
    "                dis[w] = dis[minv] + G[minv][w]         # 对已知距离进行更新\n",
    "        \n",
    "        new = INF                                       # 从剩下的未确定点中选择最小距离点作为新的扩散点\n",
    "        for v in dis.keys():\n",
    "            if v not in book and dis[v] < new: \n",
    "                new = dis[v]\n",
    "                minv = v\n",
    "    return dis\n",
    "\n",
    "\n",
    "dis = Dijkstra(G, v0=1)\n",
    "print(dis.values())"
   ]
  },
  {
   "cell_type": "markdown",
   "metadata": {},
   "source": [
    "floyd\n",
    "\n",
    "Floyd算法的基本思想： \n",
    "1. 利用二维数组dist[i][j]记录当前vi到vj的最短路径长度，数组dist的初值等于图的带权邻接矩阵; \n",
    "2. 集合S记录当前允许的中间顶点，初值S=Φ; \n",
    "3. 依次向S中加入v0 ,v1… vn-1，每加入一个顶点，对dist[i][j]进行一次修正：\n",
    "    1. 设S={v0 ,v1… vk-1}，加入vk，则dist(k)[i][j] = min{ dist(k-1)[i][j]，dist(k-1)[i][k]+dist(k-1)[k][j]}。\n",
    "    2. dist(k)[i][j]的含义：允许中间顶点的序号最大为k时从vi到vj的最短路径长度。 \n",
    "    3. dist(n-1)[i][j]就是vi到vj的最短路径长度。 "
   ]
  },
  {
   "cell_type": "code",
   "execution_count": 9,
   "metadata": {},
   "outputs": [
    {
     "name": "stdout",
     "output_type": "stream",
     "text": [
      "[[0, 1, 1, 3, 5, 5, 5, 7, 1], [0, 1, 2, 8, 4, 6, 6, 6, 8], [1, 1, 2, 3, 3, 5, 3, 3, 8], [0, 8, 2, 3, 4, 4, 7, 7, 8], [5, 1, 3, 3, 4, 5, 7, 7, 3], [0, 6, 2, 4, 4, 5, 6, 6, 8], [5, 1, 3, 3, 7, 5, 6, 7, 3], [0, 6, 3, 3, 4, 6, 6, 7, 3], [1, 1, 2, 3, 3, 5, 3, 3, 8]]\n",
      "[[0, 10, 65535, 65535, 65535, 11, 65535, 65535, 65535], [10, 0, 18, 65535, 65535, 65535, 16, 65535, 12], [65535, 18, 0, 22, 65535, 65535, 65535, 65535, 8], [65535, 65535, 22, 0, 20, 65535, 65535, 16, 21], [65535, 65535, 65535, 20, 0, 26, 65535, 7, 65535], [11, 65535, 65535, 65535, 26, 0, 17, 65535, 65535], [65535, 16, 65535, 24, 65535, 17, 0, 19, 65535], [65535, 65535, 65535, 16, 7, 65535, 19, 0, 65535], [65535, 12, 8, 21, 65535, 65535, 65535, 65535, 0]]\n"
     ]
    }
   ],
   "source": [
    "INFINITY = 65535                        #代表无穷大\n",
    "D = [[0,10,INFINITY,INFINITY,INFINITY,11,INFINITY,INFINITY,INFINITY],#邻接矩阵\n",
    "        [10,0,18,INFINITY,INFINITY,INFINITY,16,INFINITY,12],\n",
    "        [INFINITY,18,0,22,INFINITY,INFINITY,INFINITY,INFINITY,8],\n",
    "        [INFINITY,INFINITY,22,0,20,INFINITY,INFINITY,16,21],\n",
    "        [INFINITY,INFINITY,INFINITY,20,0,26,INFINITY,7,INFINITY],\n",
    "        [11,INFINITY,INFINITY,INFINITY,26,0,17,INFINITY,INFINITY],\n",
    "        [INFINITY,16,INFINITY,24,INFINITY,17,0,19,INFINITY],\n",
    "        [INFINITY,INFINITY,INFINITY,16,7,INFINITY,19,0,INFINITY],\n",
    "        [INFINITY,12,8,21,INFINITY,INFINITY,INFINITY,INFINITY,0]]\n",
    "lengthD = len(D)                    #邻接矩阵大小\n",
    "p = list(range(lengthD))\n",
    "P = []\n",
    "for i in range(lengthD):\n",
    "    P.append(p[:])\n",
    "\n",
    "for i in range(lengthD):\n",
    "    for j in range(lengthD):\n",
    "        for k in range(lengthD):\n",
    "            if(D[i][j] > D[i][k]+D[j][k]):         #两个顶点直接较小的间接路径替换较大的直接路径\n",
    "                P[i][j] = P[j][k]                 #记录新路径的前驱\n",
    "print(P)\n",
    "print(D)"
   ]
  },
  {
   "cell_type": "markdown",
   "metadata": {},
   "source": [
    "SPFA\n",
    "\n",
    "SPFA算法是求解单源最短路径问题的一种算法，由理查德·贝尔曼（Richard Bellman） 和 莱斯特·福特 创立的。有时候这种算法也被称为 Moore-Bellman-Ford 算法，因为 Edward F. Moore 也为这个算法的发展做出了贡献。它的原理是对图进行V-1次松弛操作，得到所有可能的最短路径。其优于迪科斯彻算法的方面是边的权值可以为负数、实现简单，缺点是时间复杂度过高，高达 O(VE)。但算法可以进行若干种优化，提高了效率。\n",
    "\n",
    "我们用数组dis记录每个结点的最短路径估计值，用邻接表或邻接矩阵来存储图G。我们采取的方法是动态逼近法：设立一个先进先出的队列用来保存待优化的结点，优化时每次取出队首结点u，并且用u点当前的最短路径估计值对离开u点所指向的结点v进行松弛操作，如果v点的最短路径估计值有所调整，且v点不在当前的队列中，就将v点放入队尾。这样不断从队列中取出结点来进行松弛操作，直至队列空为止\n",
    "\n",
    "我们要知道带有负环的图是没有最短路径的，所以我们在执行算法的时候，要判断图是否带有负环，方法有两种：\n",
    "\n",
    "1.开始算法前，调用拓扑排序进行判断（一般不采用，浪费时间）\n",
    "2.如果某个点进入队列的次数超过N次则存在负环（N为图的顶点数）"
   ]
  },
  {
   "cell_type": "code",
   "execution_count": null,
   "metadata": {},
   "outputs": [],
   "source": [
    "void  spfa(s);  //求单源点s到其它各顶点的最短距离\n",
    "    for i=1 to n do { dis[i]=∞; vis[i]=false; }   //初始化每点到s的距离，不在队列\n",
    "    dis[s]=0;  //将dis[源点]设为0\n",
    "    vis[s]=true; //源点s入队列\n",
    "    head=0; tail=1; q[tail]=s; //源点s入队, 头尾指针赋初值\n",
    "    \n",
    "    while head<tail do {\n",
    "       head+1;  //队首出队\n",
    "       v=q[head];  //队首结点v\n",
    "       vis[v]=false;  //释放对v的标记，可以重新入队\n",
    "       for 每条边(v,i)  //对于与队首v相连的每一条边\n",
    "       if (dis[i]>dis[v]+a[v][i])  //如果不满足三角形性质\n",
    "         dis[i] = dis[v] + a[v][i]   //松弛dis[i]\n",
    "         if (vis[i]=false) {tail+1; q[tail]=i; vis[i]=true;} //不在队列，则加入队列\n",
    "    } "
   ]
  }
 ],
 "metadata": {
  "kernelspec": {
   "display_name": "Python 3",
   "language": "python",
   "name": "python3"
  },
  "language_info": {
   "codemirror_mode": {
    "name": "ipython",
    "version": 3
   },
   "file_extension": ".py",
   "mimetype": "text/x-python",
   "name": "python",
   "nbconvert_exporter": "python",
   "pygments_lexer": "ipython3",
   "version": "3.6.6"
  }
 },
 "nbformat": 4,
 "nbformat_minor": 2
}
