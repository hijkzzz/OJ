{
 "cells": [
  {
   "cell_type": "code",
   "execution_count": 1,
   "metadata": {},
   "outputs": [
    {
     "name": "stdout",
     "output_type": "stream",
     "text": [
      "表达式结果是： -1.8\n"
     ]
    }
   ],
   "source": [
    "# 栈的应用：后缀表达式的计算\n",
    "def calculator(str):\n",
    "    arr = list(str)\n",
    "    stack = []\n",
    "    for x in range(0, len(arr)):\n",
    "        if arr[x] in (\"+\",\"-\",\"*\",\"/\"):\n",
    "            left = float(stack.pop())\n",
    "            right = float(stack.pop())\n",
    "            if arr[x] == \"+\":\n",
    "                stack.append(left+right)\n",
    "            if arr[x] == \"-\":\n",
    "                stack.append(left-right)\n",
    "            if arr[x] == \"*\":\n",
    "                stack.append(left*right)\n",
    "            if arr[x] == \"/\":\n",
    "                stack.append(left/right)\n",
    "        else:\n",
    "            stack.append(arr[x])\n",
    "    print(\"表达式结果是：\", stack[0]) \n",
    " \n",
    "# 测试\n",
    "s = \"1234-*+56/-\"\n",
    "calculator(s)"
   ]
  },
  {
   "cell_type": "code",
   "execution_count": null,
   "metadata": {},
   "outputs": [],
   "source": []
  }
 ],
 "metadata": {
  "kernelspec": {
   "display_name": "Python 3",
   "language": "python",
   "name": "python3"
  },
  "language_info": {
   "codemirror_mode": {
    "name": "ipython",
    "version": 3
   },
   "file_extension": ".py",
   "mimetype": "text/x-python",
   "name": "python",
   "nbconvert_exporter": "python",
   "pygments_lexer": "ipython3",
   "version": "3.6.6"
  }
 },
 "nbformat": 4,
 "nbformat_minor": 2
}
